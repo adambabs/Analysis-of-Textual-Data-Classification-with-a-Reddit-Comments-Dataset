{
 "cells": [
  {
   "cell_type": "code",
   "execution_count": 19,
   "metadata": {},
   "outputs": [],
   "source": [
    "import os\n",
    "import pandas as pd\n",
    "import numpy as np\n",
    "\n",
    "from sklearn import linear_model\n",
    "from sklearn.model_selection import cross_val_score\n",
    "from sklearn.feature_extraction.text import CountVectorizer\n",
    "from sklearn.model_selection import train_test_split\n",
    "from sklearn.preprocessing import LabelEncoder\n",
    "from sklearn import model_selection, naive_bayes, svm\n",
    "from sklearn.metrics import accuracy_score\n",
    "from sklearn.linear_model import LogisticRegression\n",
    "from sklearn.svm import LinearSVC"
   ]
  },
  {
   "cell_type": "code",
   "execution_count": 20,
   "metadata": {},
   "outputs": [],
   "source": [
    "import warnings\n",
    "warnings.simplefilter('ignore')"
   ]
  },
  {
   "cell_type": "markdown",
   "metadata": {},
   "source": [
    "## Models without preprocessing"
   ]
  },
  {
   "cell_type": "code",
   "execution_count": 38,
   "metadata": {},
   "outputs": [],
   "source": [
    "cwd = os.getcwd()\n",
    "\n",
    "df_train = pd.read_csv(os.path.join(cwd, 'reddit_train.csv'))\n"
   ]
  },
  {
   "cell_type": "code",
   "execution_count": 39,
   "metadata": {},
   "outputs": [],
   "source": [
    "X_train, y_train = df_train['comments'], df_train['subreddits']"
   ]
  },
  {
   "cell_type": "markdown",
   "metadata": {},
   "source": [
    "#### Tf-Idf"
   ]
  },
  {
   "cell_type": "code",
   "execution_count": 40,
   "metadata": {},
   "outputs": [],
   "source": [
    "# from sklearn.feature_extraction.text import TfidfVectorizer\n",
    "\n",
    "\n",
    "# #tfidf_vectorizer = TfidfVectorizer(max_features=None, smooth_idf=True, sublinear_tf=True)#, ngram_range=(1, 2))\n",
    "# tfidf_vectorizer = TfidfVectorizer(max_features=None, smooth_idf=True, sublinear_tf=True)\n",
    "\n",
    "# Encoder = LabelEncoder()\n",
    "\n",
    "# #X_train = Encoder.fit_transform(X_train)\n",
    "# y_train = Encoder.fit_transform(y_train)\n",
    "\n",
    "# tfidf_vectorizer.fit(X_train)\n",
    "# X_train = tfidf_vectorizer.transform(X_train)\n",
    "\n"
   ]
  },
  {
   "cell_type": "markdown",
   "metadata": {},
   "source": [
    "#### Count Vectorization"
   ]
  },
  {
   "cell_type": "code",
   "execution_count": 41,
   "metadata": {},
   "outputs": [],
   "source": [
    "from sklearn.feature_extraction.text import CountVectorizer\n",
    "vectorizer = CountVectorizer()\n",
    "\n",
    "X_train = vectorizer.fit_transform(X_train)\n",
    "Encoder = LabelEncoder()\n",
    "y_train = Encoder.fit_transform(y_train)"
   ]
  },
  {
   "cell_type": "code",
   "execution_count": null,
   "metadata": {},
   "outputs": [],
   "source": []
  },
  {
   "cell_type": "code",
   "execution_count": null,
   "metadata": {},
   "outputs": [],
   "source": []
  },
  {
   "cell_type": "code",
   "execution_count": null,
   "metadata": {},
   "outputs": [],
   "source": []
  },
  {
   "cell_type": "code",
   "execution_count": null,
   "metadata": {},
   "outputs": [],
   "source": []
  },
  {
   "cell_type": "code",
   "execution_count": null,
   "metadata": {},
   "outputs": [],
   "source": []
  },
  {
   "cell_type": "markdown",
   "metadata": {},
   "source": [
    "## Training classifiers before preprocessing"
   ]
  },
  {
   "cell_type": "markdown",
   "metadata": {},
   "source": [
    "##### Multinomial Naive Bayes"
   ]
  },
  {
   "cell_type": "code",
   "execution_count": 42,
   "metadata": {},
   "outputs": [
    {
     "name": "stdout",
     "output_type": "stream",
     "text": [
      "Naive Bayes Classifier Accuracy (before preprocessing): \n",
      "5-fold cross validation average:  0.530778982172196\n"
     ]
    }
   ],
   "source": [
    "Naive = naive_bayes.MultinomialNB()\n",
    "\n",
    "x = cross_val_score(Naive, X_train, y_train, cv=5)\n",
    "\n",
    "\n",
    "print(\"Naive Bayes Classifier Accuracy (before preprocessing): \")\n",
    "print(\"5-fold cross validation average: \", x.mean())"
   ]
  },
  {
   "cell_type": "code",
   "execution_count": null,
   "metadata": {},
   "outputs": [],
   "source": []
  },
  {
   "cell_type": "raw",
   "metadata": {},
   "source": [
    "Multinomial Naive Bayes: Count Vectorizer and before preprocessing: \n",
    "\n",
    "Naive Bayes Classifier Accuracy (before preprocessing): \n",
    "5-fold cross validation average:  0.530778982172196\n"
   ]
  },
  {
   "cell_type": "code",
   "execution_count": null,
   "metadata": {},
   "outputs": [],
   "source": []
  },
  {
   "cell_type": "raw",
   "metadata": {},
   "source": [
    "Multinomial Naive Bayes: Tf-Idf Vectorizer and before preprocessing: \n",
    "\n",
    "Naive Bayes Classifier Accuracy (before preprocessing): \n",
    "5-fold cross validation average:  0.5572651301623586\n"
   ]
  },
  {
   "cell_type": "code",
   "execution_count": null,
   "metadata": {},
   "outputs": [],
   "source": []
  },
  {
   "cell_type": "code",
   "execution_count": null,
   "metadata": {},
   "outputs": [],
   "source": []
  },
  {
   "cell_type": "markdown",
   "metadata": {},
   "source": [
    "##### Logistic Regression"
   ]
  },
  {
   "cell_type": "code",
   "execution_count": 43,
   "metadata": {},
   "outputs": [
    {
     "name": "stdout",
     "output_type": "stream",
     "text": [
      "Logistic Regression Classifier Accuracy (before preprocessing): \n",
      "5-fold cross validation average:  0.5250789393119917\n"
     ]
    }
   ],
   "source": [
    "logreg = LogisticRegression()\n",
    "y = cross_val_score(logreg, X_train, y_train, cv=5)\n",
    "\n",
    "print(\"Logistic Regression Classifier Accuracy (before preprocessing): \")\n",
    "print(\"5-fold cross validation average: \", y.mean())"
   ]
  },
  {
   "cell_type": "code",
   "execution_count": null,
   "metadata": {},
   "outputs": [],
   "source": []
  },
  {
   "cell_type": "raw",
   "metadata": {},
   "source": [
    "Logistic Regression: Count Vectorizer and before preprocessing: \n",
    "Logistic Regression Classifier Accuracy (before preprocessing): \n",
    "5-fold cross validation average:  0.5250789393119917"
   ]
  },
  {
   "cell_type": "code",
   "execution_count": null,
   "metadata": {},
   "outputs": [],
   "source": []
  },
  {
   "cell_type": "raw",
   "metadata": {},
   "source": [
    "Logistic Regression: Tf-Idf Vectorizer and before preprocessing: \n",
    "\n",
    "Logistic Regression Classifier Accuracy (before preprocessing): \n",
    "5-fold cross validation average:  0.5432220515751125"
   ]
  },
  {
   "cell_type": "code",
   "execution_count": null,
   "metadata": {},
   "outputs": [],
   "source": []
  },
  {
   "cell_type": "code",
   "execution_count": null,
   "metadata": {},
   "outputs": [],
   "source": []
  },
  {
   "cell_type": "code",
   "execution_count": null,
   "metadata": {},
   "outputs": [],
   "source": []
  },
  {
   "cell_type": "markdown",
   "metadata": {},
   "source": [
    "##### Stochastic Gradient Descent Classifier "
   ]
  },
  {
   "cell_type": "code",
   "execution_count": 44,
   "metadata": {},
   "outputs": [
    {
     "name": "stdout",
     "output_type": "stream",
     "text": [
      "Stochastic Gradient Descent Classifier Accuracy (before preprocessing): \n",
      "5-fold cross validation average:  0.4539635698468258\n"
     ]
    }
   ],
   "source": [
    "SGD = linear_model.SGDClassifier()\n",
    "a = cross_val_score(SGD, X_train, y_train, cv=5)\n",
    "\n",
    "print(\"Stochastic Gradient Descent Classifier Accuracy (before preprocessing): \")\n",
    "print(\"5-fold cross validation average: \", a.mean())"
   ]
  },
  {
   "cell_type": "raw",
   "metadata": {},
   "source": [
    "SGD: Count Vectorizer and before preprocessing: \n",
    "Stochastic Gradient Descent Classifier Accuracy (before preprocessing): \n",
    "5-fold cross validation average:  0.4539635698468258"
   ]
  },
  {
   "cell_type": "code",
   "execution_count": null,
   "metadata": {},
   "outputs": [],
   "source": []
  },
  {
   "cell_type": "raw",
   "metadata": {},
   "source": [
    "SGD: Tf-Idf Vectorizer and before preprocessing: \n",
    "\n",
    "Stochastic Gradient Descent Classifier Accuracy (before preprocessing): \n",
    "5-fold cross validation average:  0.5572507873011336"
   ]
  },
  {
   "cell_type": "code",
   "execution_count": null,
   "metadata": {},
   "outputs": [],
   "source": []
  },
  {
   "cell_type": "code",
   "execution_count": null,
   "metadata": {},
   "outputs": [],
   "source": []
  },
  {
   "cell_type": "code",
   "execution_count": null,
   "metadata": {},
   "outputs": [],
   "source": []
  },
  {
   "cell_type": "markdown",
   "metadata": {},
   "source": [
    "##### Support Vector Classifier "
   ]
  },
  {
   "cell_type": "code",
   "execution_count": 45,
   "metadata": {},
   "outputs": [
    {
     "name": "stdout",
     "output_type": "stream",
     "text": [
      "Support Vector Classifier Accuracy (before preprocessing): \n",
      "Accuracy array Linear SVC:  0.4902784270305022\n"
     ]
    }
   ],
   "source": [
    "SVC = LinearSVC(penalty='l2', loss='squared_hinge', dual=True, tol=0.0001, C=1.0, multi_class='ovr', \n",
    "                 fit_intercept=True, intercept_scaling=1, class_weight=None, verbose=0, random_state=None, max_iter=10000)\n",
    "          \n",
    "svc_pre = cross_val_score(SVC, X_train, y_train, cv=5)\n",
    "print(\"Support Vector Classifier Accuracy (before preprocessing): \")\n",
    "print(\"Accuracy array Linear SVC: \", svc_pre.mean())  "
   ]
  },
  {
   "cell_type": "raw",
   "metadata": {},
   "source": [
    "SVC: Count Vectorizer and before preprocessing: \n",
    "\n",
    "Support Vector Classifier Accuracy (before preprocessing): \n",
    "Accuracy array Linear SVC:  0.4902784270305022"
   ]
  },
  {
   "cell_type": "code",
   "execution_count": null,
   "metadata": {},
   "outputs": [],
   "source": []
  },
  {
   "cell_type": "raw",
   "metadata": {},
   "source": [
    "SGD: Tf-Idf Vectorizer and before preprocessing: \n",
    "\n",
    "Support Vector Classifier Accuracy (before preprocessing): \n",
    "Accuracy array Linear SVC:  0.5531507515842969"
   ]
  },
  {
   "cell_type": "code",
   "execution_count": null,
   "metadata": {},
   "outputs": [],
   "source": []
  },
  {
   "cell_type": "code",
   "execution_count": null,
   "metadata": {},
   "outputs": [],
   "source": []
  },
  {
   "cell_type": "code",
   "execution_count": null,
   "metadata": {},
   "outputs": [],
   "source": []
  },
  {
   "cell_type": "code",
   "execution_count": null,
   "metadata": {},
   "outputs": [],
   "source": []
  },
  {
   "cell_type": "markdown",
   "metadata": {},
   "source": [
    "## The same models with preprocessed data "
   ]
  },
  {
   "cell_type": "code",
   "execution_count": 46,
   "metadata": {},
   "outputs": [],
   "source": [
    "df_train_preprocessed = pd.read_csv(os.path.join(cwd, 'preprocessed_train.csv'))\n",
    "\n",
    "X_train_pre, y_train_pre = df_train_preprocessed['comments'], df_train_preprocessed['subreddits']"
   ]
  },
  {
   "cell_type": "markdown",
   "metadata": {},
   "source": [
    "#### Tf-Idf"
   ]
  },
  {
   "cell_type": "code",
   "execution_count": 47,
   "metadata": {},
   "outputs": [],
   "source": [
    "# from sklearn.feature_extraction.text import TfidfVectorizer\n",
    "# tfidf_vectorizer = TfidfVectorizer(max_features=None, smooth_idf=True, sublinear_tf=True)\n",
    "\n",
    "\n",
    "\n",
    "# Encoder = LabelEncoder()\n",
    "\n",
    "# y_train_pre = Encoder.fit_transform(y_train_pre)\n",
    "# #y_test = Encoder.fit_transform(y_test)\n",
    "\n",
    "# tfidf_vectorizer.fit(X_train_pre)\n",
    "# X_train_pre = tfidf_vectorizer.transform(X_train_pre)\n",
    "\n",
    "\n",
    "# #df_test = tfidf_vectorizer.transform(df_test)"
   ]
  },
  {
   "cell_type": "markdown",
   "metadata": {},
   "source": [
    "#### Count Vectorization"
   ]
  },
  {
   "cell_type": "code",
   "execution_count": 49,
   "metadata": {},
   "outputs": [],
   "source": [
    "from sklearn.feature_extraction.text import CountVectorizer\n",
    "vectorizer = CountVectorizer()\n",
    "\n",
    "X_train_pre = vectorizer.fit_transform(X_train_pre)\n",
    "Encoder = LabelEncoder()\n",
    "\n",
    "y_train_pre = Encoder.fit_transform(y_train_pre)"
   ]
  },
  {
   "cell_type": "markdown",
   "metadata": {},
   "source": [
    "##### Multinomial Naive Bayes"
   ]
  },
  {
   "cell_type": "code",
   "execution_count": 50,
   "metadata": {},
   "outputs": [
    {
     "name": "stdout",
     "output_type": "stream",
     "text": [
      "Naive Bayes Classifier Accuracy (after preprocessing): \n",
      "5-fold cross validation average:  0.5444792321900545\n"
     ]
    }
   ],
   "source": [
    "Naive = naive_bayes.MultinomialNB()\n",
    "\n",
    "x_pre = cross_val_score(Naive, X_train_pre, y_train_pre, cv=5)\n",
    "\n",
    "\n",
    "print(\"Naive Bayes Classifier Accuracy (after preprocessing): \")\n",
    "print(\"5-fold cross validation average: \", x_pre.mean())"
   ]
  },
  {
   "cell_type": "raw",
   "metadata": {},
   "source": []
  },
  {
   "cell_type": "raw",
   "metadata": {},
   "source": [
    "NB: Count Vectorizer and after preprocessing:\n",
    "\n",
    "Naive Bayes Classifier Accuracy (after preprocessing): \n",
    "5-fold cross validation average:  0.5444792321900545\n"
   ]
  },
  {
   "cell_type": "raw",
   "metadata": {},
   "source": [
    "NB: Tf-Idf Vectorizer and after preprocessing: \n",
    "\n",
    "Naive Bayes Classifier Accuracy (after preprocessing): \n",
    "5-fold cross validation average:  0.560722284244793\n"
   ]
  },
  {
   "cell_type": "code",
   "execution_count": null,
   "metadata": {},
   "outputs": [],
   "source": []
  },
  {
   "cell_type": "markdown",
   "metadata": {},
   "source": [
    "##### Logistic Regression"
   ]
  },
  {
   "cell_type": "code",
   "execution_count": 51,
   "metadata": {},
   "outputs": [
    {
     "name": "stdout",
     "output_type": "stream",
     "text": [
      "Logistic Regression Classifier Accuracy (after preprocessing): \n",
      "5-fold cross validation average:  0.5238788984927495\n"
     ]
    }
   ],
   "source": [
    "logreg = LogisticRegression()\n",
    "y_pre = cross_val_score(logreg, X_train_pre, y_train_pre, cv=5)\n",
    "\n",
    "print(\"Logistic Regression Classifier Accuracy (after preprocessing): \")\n",
    "print(\"5-fold cross validation average: \", y_pre.mean())"
   ]
  },
  {
   "cell_type": "raw",
   "metadata": {},
   "source": []
  },
  {
   "cell_type": "raw",
   "metadata": {},
   "source": [
    "LogReg: Count Vectorizer and after preprocessing: \n",
    "\n",
    "Logistic Regression Classifier Accuracy (after preprocessing): \n",
    "5-fold cross validation average:  0.5238788984927495\n"
   ]
  },
  {
   "cell_type": "raw",
   "metadata": {},
   "source": [
    "LogReg: Tf-Idf Vectorizer and after preprocessing: \n",
    "\n",
    "Logistic Regression Classifier Accuracy (after preprocessing): \n",
    "5-fold cross validation average:  0.5464506668843693\n",
    "\n"
   ]
  },
  {
   "cell_type": "code",
   "execution_count": null,
   "metadata": {},
   "outputs": [],
   "source": []
  },
  {
   "cell_type": "markdown",
   "metadata": {},
   "source": [
    "##### Stochastic Gradient Descent Classifier"
   ]
  },
  {
   "cell_type": "code",
   "execution_count": 52,
   "metadata": {},
   "outputs": [
    {
     "name": "stdout",
     "output_type": "stream",
     "text": [
      "Stochastic Gradient Descent Classifier Accuracy (after preprocessing): \n",
      "5-fold cross validation average:  0.5078357474513485\n"
     ]
    }
   ],
   "source": [
    "SGD = linear_model.SGDClassifier()\n",
    "a_pre = cross_val_score(SGD, X_train_pre, y_train_pre, cv=5)\n",
    "\n",
    "print(\"Stochastic Gradient Descent Classifier Accuracy (after preprocessing): \")\n",
    "print(\"5-fold cross validation average: \", a_pre.mean())"
   ]
  },
  {
   "cell_type": "raw",
   "metadata": {},
   "source": [
    "\n"
   ]
  },
  {
   "cell_type": "raw",
   "metadata": {},
   "source": [
    "SGD: Count Vectorizer and after preprocessing: \n",
    "\n",
    "Stochastic Gradient Descent Classifier Accuracy (after preprocessing): \n",
    "5-fold cross validation average:  0.5078357474513485"
   ]
  },
  {
   "cell_type": "code",
   "execution_count": null,
   "metadata": {},
   "outputs": [],
   "source": []
  },
  {
   "cell_type": "raw",
   "metadata": {},
   "source": [
    "SGD: Tf-Idf Vectorizer and after preprocessing: \n",
    "\n",
    "\n",
    "Stochastic Gradient Descent Classifier Accuracy (after preprocessing): \n",
    "5-fold cross validation average:  0.5508364026001857"
   ]
  },
  {
   "cell_type": "code",
   "execution_count": null,
   "metadata": {},
   "outputs": [],
   "source": []
  },
  {
   "cell_type": "markdown",
   "metadata": {},
   "source": [
    "##### Support Vector Classifier"
   ]
  },
  {
   "cell_type": "code",
   "execution_count": 54,
   "metadata": {},
   "outputs": [
    {
     "name": "stdout",
     "output_type": "stream",
     "text": [
      "Support Vector Classifier Accuracy (after preprocessing): \n",
      "Accuracy array Linear SVC:  0.49286412804996277\n"
     ]
    }
   ],
   "source": [
    "SVC = LinearSVC(penalty='l2', loss='squared_hinge', dual=True, tol=0.0001, C=1.0, multi_class='ovr', \n",
    "                 fit_intercept=True, intercept_scaling=1, class_weight=None, verbose=0, random_state=None, max_iter=10000)\n",
    "          \n",
    "svc_pre = cross_val_score(SVC, X_train_pre, y_train_pre, cv=5)\n",
    "\n",
    "print(\"Support Vector Classifier Accuracy (after preprocessing): \")\n",
    "print(\"Accuracy array Linear SVC: \", svc_pre.mean())  "
   ]
  },
  {
   "cell_type": "raw",
   "metadata": {},
   "source": []
  },
  {
   "cell_type": "raw",
   "metadata": {},
   "source": [
    "SVC: Count Vectorizer and after preprocessing: \n",
    "\n",
    "Support Vector Classifier Accuracy (after preprocessing): \n",
    "Accuracy array Linear SVC:  0.49286412804996277"
   ]
  },
  {
   "cell_type": "code",
   "execution_count": null,
   "metadata": {},
   "outputs": [],
   "source": []
  },
  {
   "cell_type": "raw",
   "metadata": {},
   "source": [
    "SVC: Tf-Idf Vectorizer and after preprocessing: \n",
    "\n",
    "Support Vector Classifier Accuracy (after preprocessing): \n",
    "Accuracy array Linear SVC:  0.5474792301490923"
   ]
  }
 ],
 "metadata": {
  "kernelspec": {
   "display_name": "Python 3",
   "language": "python",
   "name": "python3"
  },
  "language_info": {
   "codemirror_mode": {
    "name": "ipython",
    "version": 3
   },
   "file_extension": ".py",
   "mimetype": "text/x-python",
   "name": "python",
   "nbconvert_exporter": "python",
   "pygments_lexer": "ipython3",
   "version": "3.7.3"
  }
 },
 "nbformat": 4,
 "nbformat_minor": 2
}
